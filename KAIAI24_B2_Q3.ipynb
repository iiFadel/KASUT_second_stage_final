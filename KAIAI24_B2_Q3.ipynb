{
  "nbformat": 4,
  "nbformat_minor": 0,
  "metadata": {
    "colab": {
      "provenance": [],
      "gpuType": "T4"
    },
    "kernelspec": {
      "name": "python3",
      "display_name": "Python 3"
    },
    "language_info": {
      "name": "python"
    },
    "accelerator": "GPU"
  },
  "cells": [
    {
      "cell_type": "markdown",
      "source": [
        "## Task: Train an EMNIST classifier\n",
        "\n",
        "EMNIST (or extended MNIST) is just like MNIST, a bunch of handwritten images, except instead of just digits (0-9) it also has uppercase and lowercase characters.\n",
        "\n",
        "You are provided with the code to load the EMNIST train and split **datasets**\n",
        "\n",
        "Write and train a classifier for EMNIST. Make sure to\n",
        "\n",
        "- Show how your loss(es) dropped during training.\n",
        "- Show final performance of your model on untrained data.\n",
        "- Maintain good code quality."
      ],
      "metadata": {
        "id": "zemWtDr8gVOf"
      }
    },
    {
      "cell_type": "code",
      "source": [
        "import torch\n",
        "import torch.nn as nn\n",
        "import torch.optim as optim\n",
        "\n",
        "import matplotlib.pyplot as plt\n",
        "import numpy as np\n",
        "\n",
        "import torchvision\n",
        "from torchvision.datasets import EMNIST\n",
        "import torchvision.transforms.functional as F\n",
        "import torch.nn.functional as F\n",
        "from torchvision import transforms\n",
        "from torch.utils.data import DataLoader, Subset"
      ],
      "metadata": {
        "id": "4GQMlmw2hwbn"
      },
      "execution_count": 1,
      "outputs": []
    },
    {
      "cell_type": "code",
      "source": [
        "train_data = EMNIST(root='emnist_data/', split='byclass', download=True)\n",
        "test_data = EMNIST(root='emnist_data/', split='byclass', download=True, train=False)"
      ],
      "metadata": {
        "id": "InCfHKZme7ga",
        "colab": {
          "base_uri": "https://localhost:8080/"
        },
        "outputId": "bd433d6b-fd39-4aa0-f0f2-dfa6e074db35"
      },
      "execution_count": 2,
      "outputs": [
        {
          "output_type": "stream",
          "name": "stdout",
          "text": [
            "Downloading https://www.itl.nist.gov/iaui/vip/cs_links/EMNIST/gzip.zip to emnist_data/EMNIST/raw/gzip.zip\n"
          ]
        },
        {
          "output_type": "stream",
          "name": "stderr",
          "text": [
            "100%|██████████| 561753746/561753746 [00:22<00:00, 25392868.59it/s]\n"
          ]
        },
        {
          "output_type": "stream",
          "name": "stdout",
          "text": [
            "Extracting emnist_data/EMNIST/raw/gzip.zip to emnist_data/EMNIST/raw\n"
          ]
        }
      ]
    },
    {
      "cell_type": "code",
      "source": [
        "# This cell is for demo purposes. feel free to remove it if you want.\n",
        "print('Number of classes in dataset:', len(train_data.classes))\n",
        "print('Unique labels:', train_data.classes)\n",
        "\n",
        "demo_img, demo_label = train_data[10]\n",
        "\n",
        "print(demo_label)\n",
        "torchvision.transforms.functional.resize(demo_img, (255, 255))"
      ],
      "metadata": {
        "colab": {
          "base_uri": "https://localhost:8080/"
        },
        "id": "udb4rY5Vhaau",
        "outputId": "97bab864-080f-4092-b882-4980a18cea3b"
      },
      "execution_count": 155,
      "outputs": [
        {
          "output_type": "stream",
          "name": "stdout",
          "text": [
            "Number of classes in dataset: 62\n",
            "Unique labels: ['0', '1', '2', '3', '4', '5', '6', '7', '8', '9', 'A', 'B', 'C', 'D', 'E', 'F', 'G', 'H', 'I', 'J', 'K', 'L', 'M', 'N', 'O', 'P', 'Q', 'R', 'S', 'T', 'U', 'V', 'W', 'X', 'Y', 'Z', 'a', 'b', 'c', 'd', 'e', 'f', 'g', 'h', 'i', 'j', 'k', 'l', 'm', 'n', 'o', 'p', 'q', 'r', 's', 't', 'u', 'v', 'w', 'x', 'y', 'z']\n",
            "7\n"
          ]
        },
        {
          "output_type": "execute_result",
          "data": {
            "text/plain": [
              "tensor([[[0., 0., 0.,  ..., 0., 0., 0.],\n",
              "         [0., 0., 0.,  ..., 0., 0., 0.],\n",
              "         [0., 0., 0.,  ..., 0., 0., 0.],\n",
              "         ...,\n",
              "         [0., 0., 0.,  ..., 0., 0., 0.],\n",
              "         [0., 0., 0.,  ..., 0., 0., 0.],\n",
              "         [0., 0., 0.,  ..., 0., 0., 0.]]])"
            ]
          },
          "metadata": {},
          "execution_count": 155
        }
      ]
    },
    {
      "cell_type": "code",
      "source": [
        "# Transformations for the EMNIST dataset\n",
        "transform = transforms.Compose([\n",
        "    transforms.ToTensor(),\n",
        "])\n",
        "\n",
        "# Load the datasets\n",
        "train_data = EMNIST(root='emnist_data/', split='byclass', train=True, download=True, transform=transform)\n",
        "test_data = EMNIST(root='emnist_data/', split='byclass', train=False, download=True, transform=transform)\n",
        "\n",
        "# Define the size of the subset as a fraction of the original dataset\n",
        "subset_fraction = 0.1 ## You can play with this to get a bigger or smaller subset\n",
        "\n",
        "# Create indices for the training subset\n",
        "train_indices = np.random.choice(len(train_data), int(len(train_data) * subset_fraction), replace=False)\n",
        "\n",
        "# Create the training subset\n",
        "train_subset = Subset(train_data, train_indices)\n",
        "\n",
        "# For the test set, you can do the same or use the full test set\n",
        "test_indices = np.random.choice(len(test_data), int(len(test_data) * subset_fraction), replace=False)\n",
        "test_subset = Subset(test_data, test_indices)\n",
        "\n",
        "# Check the size of the subset\n",
        "print(f\"Training subset size: {len(train_subset)}\")\n",
        "print(f\"Test subset size: {len(test_subset)}\")\n",
        "\n",
        "# Define the DataLoaders\n",
        "train_loader = DataLoader(train_subset, batch_size=32, shuffle=True)\n",
        "test_loader = DataLoader(test_subset, batch_size=32, shuffle=False)"
      ],
      "metadata": {
        "id": "Ia6MAyxqhiAi",
        "colab": {
          "base_uri": "https://localhost:8080/"
        },
        "outputId": "79166e9e-1b35-48a6-e835-ab51f27bd126"
      },
      "execution_count": 156,
      "outputs": [
        {
          "output_type": "stream",
          "name": "stdout",
          "text": [
            "Training subset size: 69793\n",
            "Test subset size: 11632\n"
          ]
        }
      ]
    },
    {
      "cell_type": "code",
      "source": [
        "print(\"The image shape:\", demo_img)"
      ],
      "metadata": {
        "colab": {
          "base_uri": "https://localhost:8080/"
        },
        "id": "k-i_6AyonE4v",
        "outputId": "80c37676-5b57-4b42-b61b-cb227fa994d7"
      },
      "execution_count": 157,
      "outputs": [
        {
          "output_type": "stream",
          "name": "stdout",
          "text": [
            "The image shape: tensor([[[0.0000, 0.0000, 0.0000, 0.0000, 0.0000, 0.0000, 0.0000, 0.0000,\n",
            "          0.0000, 0.0000, 0.0000, 0.0000, 0.0000, 0.0000, 0.0000, 0.0000,\n",
            "          0.0000, 0.0000, 0.0000, 0.0000, 0.0000, 0.0000, 0.0000, 0.0000,\n",
            "          0.0000, 0.0000, 0.0000, 0.0000],\n",
            "         [0.0000, 0.0000, 0.0000, 0.0000, 0.0000, 0.0000, 0.0000, 0.0000,\n",
            "          0.0000, 0.0000, 0.0000, 0.0000, 0.0000, 0.0000, 0.0000, 0.0000,\n",
            "          0.0000, 0.0000, 0.0000, 0.0000, 0.0000, 0.0000, 0.0000, 0.0000,\n",
            "          0.0000, 0.0000, 0.0000, 0.0000],\n",
            "         [0.0000, 0.0000, 0.0000, 0.0000, 0.0000, 0.0000, 0.0000, 0.0000,\n",
            "          0.0000, 0.0000, 0.0000, 0.0000, 0.0000, 0.0000, 0.0000, 0.0000,\n",
            "          0.0000, 0.0000, 0.0000, 0.0000, 0.0000, 0.0000, 0.0000, 0.0000,\n",
            "          0.0000, 0.0000, 0.0000, 0.0000],\n",
            "         [0.0000, 0.0000, 0.0000, 0.0000, 0.0000, 0.0000, 0.0000, 0.0000,\n",
            "          0.0000, 0.0000, 0.0000, 0.0000, 0.0000, 0.0000, 0.0000, 0.0000,\n",
            "          0.0000, 0.0000, 0.0000, 0.0000, 0.0000, 0.0000, 0.0000, 0.0000,\n",
            "          0.0000, 0.0000, 0.0000, 0.0000],\n",
            "         [0.0000, 0.0000, 0.0000, 0.0000, 0.0000, 0.0000, 0.0000, 0.0000,\n",
            "          0.0000, 0.0000, 0.0000, 0.0000, 0.0000, 0.0000, 0.0000, 0.0000,\n",
            "          0.0000, 0.0000, 0.0000, 0.0000, 0.0000, 0.0275, 0.1255, 0.1451,\n",
            "          0.0784, 0.0039, 0.0000, 0.0000],\n",
            "         [0.0000, 0.0000, 0.0000, 0.0000, 0.0078, 0.0157, 0.0078, 0.0000,\n",
            "          0.0000, 0.0000, 0.0000, 0.0000, 0.0000, 0.0000, 0.0000, 0.0000,\n",
            "          0.0000, 0.0000, 0.0000, 0.0000, 0.0392, 0.3569, 0.7922, 0.8431,\n",
            "          0.6000, 0.0784, 0.0000, 0.0000],\n",
            "         [0.0000, 0.0000, 0.0000, 0.0078, 0.2471, 0.4824, 0.2471, 0.0078,\n",
            "          0.0000, 0.0000, 0.0000, 0.0000, 0.0000, 0.0000, 0.0000, 0.0000,\n",
            "          0.0000, 0.0000, 0.0039, 0.1294, 0.4980, 0.8667, 0.9922, 1.0000,\n",
            "          0.8431, 0.1451, 0.0000, 0.0000],\n",
            "         [0.0000, 0.0000, 0.0000, 0.0157, 0.4902, 0.9451, 0.4902, 0.0157,\n",
            "          0.0000, 0.0000, 0.0000, 0.0000, 0.0000, 0.0000, 0.0000, 0.0000,\n",
            "          0.0000, 0.0275, 0.1843, 0.6431, 0.9569, 0.9922, 0.9373, 0.9529,\n",
            "          0.7490, 0.1255, 0.0000, 0.0000],\n",
            "         [0.0000, 0.0000, 0.0000, 0.0353, 0.5529, 0.9647, 0.4980, 0.0157,\n",
            "          0.0000, 0.0000, 0.0000, 0.0000, 0.0000, 0.0000, 0.0000, 0.0000,\n",
            "          0.0314, 0.3569, 0.8118, 0.9725, 0.9882, 0.8588, 0.4353, 0.5255,\n",
            "          0.2235, 0.0196, 0.0000, 0.0000],\n",
            "         [0.0000, 0.0000, 0.0000, 0.1255, 0.8000, 0.9765, 0.4980, 0.0157,\n",
            "          0.0000, 0.0000, 0.0000, 0.0000, 0.0000, 0.0000, 0.0000, 0.0157,\n",
            "          0.3137, 0.8588, 0.9922, 0.9569, 0.6902, 0.3098, 0.0392, 0.0588,\n",
            "          0.0196, 0.0000, 0.0000, 0.0000],\n",
            "         [0.0000, 0.0000, 0.0000, 0.1529, 0.8549, 0.9608, 0.4471, 0.0157,\n",
            "          0.0000, 0.0000, 0.0000, 0.0000, 0.0000, 0.0039, 0.0863, 0.3294,\n",
            "          0.7373, 0.9843, 0.8745, 0.4980, 0.1333, 0.0118, 0.0000, 0.0000,\n",
            "          0.0000, 0.0000, 0.0000, 0.0000],\n",
            "         [0.0000, 0.0000, 0.0078, 0.3216, 0.9176, 0.8706, 0.2000, 0.0000,\n",
            "          0.0000, 0.0000, 0.0000, 0.0000, 0.0353, 0.1843, 0.6275, 0.9098,\n",
            "          0.9843, 0.9529, 0.4980, 0.0471, 0.0000, 0.0000, 0.0000, 0.0000,\n",
            "          0.0000, 0.0000, 0.0000, 0.0000],\n",
            "         [0.0000, 0.0000, 0.0353, 0.5451, 0.9804, 0.8471, 0.1451, 0.0000,\n",
            "          0.0000, 0.0000, 0.0000, 0.1255, 0.4980, 0.8196, 0.9725, 0.9922,\n",
            "          0.8667, 0.4980, 0.1255, 0.0000, 0.0000, 0.0000, 0.0000, 0.0000,\n",
            "          0.0000, 0.0000, 0.0000, 0.0000],\n",
            "         [0.0000, 0.0000, 0.1255, 0.8000, 0.9882, 0.6745, 0.0824, 0.0000,\n",
            "          0.0000, 0.0000, 0.0863, 0.5176, 0.9529, 0.9961, 0.9725, 0.8118,\n",
            "          0.3569, 0.0392, 0.0000, 0.0000, 0.0000, 0.0000, 0.0000, 0.0000,\n",
            "          0.0000, 0.0000, 0.0000, 0.0000],\n",
            "         [0.0000, 0.0000, 0.1451, 0.8510, 0.9804, 0.4980, 0.0196, 0.0000,\n",
            "          0.0039, 0.0902, 0.4980, 0.9137, 0.9961, 0.9569, 0.6431, 0.1843,\n",
            "          0.0275, 0.0000, 0.0000, 0.0000, 0.0000, 0.0000, 0.0000, 0.0000,\n",
            "          0.0000, 0.0000, 0.0000, 0.0000],\n",
            "         [0.0000, 0.0000, 0.1529, 0.8549, 0.9176, 0.3216, 0.0078, 0.0000,\n",
            "          0.0863, 0.6078, 0.9176, 0.9922, 0.8667, 0.4980, 0.1294, 0.0039,\n",
            "          0.0000, 0.0000, 0.0000, 0.0000, 0.0000, 0.0000, 0.0000, 0.0000,\n",
            "          0.0000, 0.0000, 0.0000, 0.0000],\n",
            "         [0.0000, 0.0078, 0.3216, 0.9176, 0.8549, 0.1529, 0.0039, 0.0863,\n",
            "          0.3922, 0.9137, 0.9686, 0.8118, 0.3569, 0.0392, 0.0000, 0.0000,\n",
            "          0.0000, 0.0000, 0.0000, 0.0000, 0.0000, 0.0000, 0.0000, 0.0000,\n",
            "          0.0000, 0.0000, 0.0000, 0.0000],\n",
            "         [0.0000, 0.0157, 0.4941, 0.9765, 0.8471, 0.1490, 0.1373, 0.6235,\n",
            "          0.9098, 0.9137, 0.6275, 0.1843, 0.0275, 0.0000, 0.0000, 0.0000,\n",
            "          0.0000, 0.0000, 0.0000, 0.0000, 0.0000, 0.0000, 0.0000, 0.0000,\n",
            "          0.0000, 0.0000, 0.0000, 0.0000],\n",
            "         [0.0000, 0.0157, 0.4980, 0.9765, 0.7294, 0.1961, 0.6235, 0.9647,\n",
            "          0.9569, 0.5176, 0.0902, 0.0039, 0.0000, 0.0000, 0.0000, 0.0000,\n",
            "          0.0000, 0.0000, 0.0000, 0.0000, 0.0000, 0.0000, 0.0000, 0.0000,\n",
            "          0.0000, 0.0000, 0.0000, 0.0000],\n",
            "         [0.0000, 0.0157, 0.4980, 0.9804, 0.8824, 0.6275, 0.9176, 0.9647,\n",
            "          0.6392, 0.1333, 0.0000, 0.0000, 0.0000, 0.0000, 0.0000, 0.0000,\n",
            "          0.0000, 0.0000, 0.0000, 0.0000, 0.0000, 0.0000, 0.0000, 0.0000,\n",
            "          0.0000, 0.0000, 0.0000, 0.0000],\n",
            "         [0.0000, 0.0157, 0.4941, 0.9804, 0.9961, 0.9843, 0.9569, 0.6392,\n",
            "          0.1373, 0.0039, 0.0000, 0.0000, 0.0000, 0.0000, 0.0000, 0.0000,\n",
            "          0.0000, 0.0000, 0.0000, 0.0000, 0.0000, 0.0000, 0.0000, 0.0000,\n",
            "          0.0000, 0.0000, 0.0000, 0.0000],\n",
            "         [0.0000, 0.0078, 0.3216, 0.9098, 0.9961, 0.9176, 0.5176, 0.1333,\n",
            "          0.0039, 0.0000, 0.0000, 0.0000, 0.0000, 0.0000, 0.0000, 0.0000,\n",
            "          0.0000, 0.0000, 0.0000, 0.0000, 0.0000, 0.0000, 0.0000, 0.0000,\n",
            "          0.0000, 0.0000, 0.0000, 0.0000],\n",
            "         [0.0000, 0.0000, 0.0863, 0.6039, 0.8392, 0.6039, 0.0902, 0.0000,\n",
            "          0.0000, 0.0000, 0.0000, 0.0000, 0.0000, 0.0000, 0.0000, 0.0000,\n",
            "          0.0000, 0.0000, 0.0000, 0.0000, 0.0000, 0.0000, 0.0000, 0.0000,\n",
            "          0.0000, 0.0000, 0.0000, 0.0000],\n",
            "         [0.0000, 0.0000, 0.0039, 0.0784, 0.1412, 0.0784, 0.0039, 0.0000,\n",
            "          0.0000, 0.0000, 0.0000, 0.0000, 0.0000, 0.0000, 0.0000, 0.0000,\n",
            "          0.0000, 0.0000, 0.0000, 0.0000, 0.0000, 0.0000, 0.0000, 0.0000,\n",
            "          0.0000, 0.0000, 0.0000, 0.0000],\n",
            "         [0.0000, 0.0000, 0.0000, 0.0000, 0.0000, 0.0000, 0.0000, 0.0000,\n",
            "          0.0000, 0.0000, 0.0000, 0.0000, 0.0000, 0.0000, 0.0000, 0.0000,\n",
            "          0.0000, 0.0000, 0.0000, 0.0000, 0.0000, 0.0000, 0.0000, 0.0000,\n",
            "          0.0000, 0.0000, 0.0000, 0.0000],\n",
            "         [0.0000, 0.0000, 0.0000, 0.0000, 0.0000, 0.0000, 0.0000, 0.0000,\n",
            "          0.0000, 0.0000, 0.0000, 0.0000, 0.0000, 0.0000, 0.0000, 0.0000,\n",
            "          0.0000, 0.0000, 0.0000, 0.0000, 0.0000, 0.0000, 0.0000, 0.0000,\n",
            "          0.0000, 0.0000, 0.0000, 0.0000],\n",
            "         [0.0000, 0.0000, 0.0000, 0.0000, 0.0000, 0.0000, 0.0000, 0.0000,\n",
            "          0.0000, 0.0000, 0.0000, 0.0000, 0.0000, 0.0000, 0.0000, 0.0000,\n",
            "          0.0000, 0.0000, 0.0000, 0.0000, 0.0000, 0.0000, 0.0000, 0.0000,\n",
            "          0.0000, 0.0000, 0.0000, 0.0000],\n",
            "         [0.0000, 0.0000, 0.0000, 0.0000, 0.0000, 0.0000, 0.0000, 0.0000,\n",
            "          0.0000, 0.0000, 0.0000, 0.0000, 0.0000, 0.0000, 0.0000, 0.0000,\n",
            "          0.0000, 0.0000, 0.0000, 0.0000, 0.0000, 0.0000, 0.0000, 0.0000,\n",
            "          0.0000, 0.0000, 0.0000, 0.0000]]])\n"
          ]
        }
      ]
    },
    {
      "cell_type": "code",
      "source": [
        "class EMNISTClassifier(nn.Module):\n",
        "  def __init__(self, input_size):\n",
        "    super(EMNISTClassifier, self).__init__()\n",
        "    self.layer_1 = nn.Linear(input_size, 256)\n",
        "    self.layer_2 = nn.Linear(256, 128)\n",
        "    self.layer_3 = nn.Linear(128, 62)\n",
        "\n",
        "    self.relu = nn.LeakyReLU()\n",
        "\n",
        "  def forward(self, x):\n",
        "    x = self.relu(self.layer_1(x))\n",
        "    x = self.relu(self.layer_2(x))\n",
        "    x = self.layer_3(x)\n",
        "    return x\n",
        "\n"
      ],
      "metadata": {
        "id": "s0rzz1HunE6y"
      },
      "execution_count": 158,
      "outputs": []
    },
    {
      "cell_type": "code",
      "source": [
        "device = 'cuda' if torch.cuda.is_available() else 'cpu'\n",
        "print(f'Using device {device}')"
      ],
      "metadata": {
        "colab": {
          "base_uri": "https://localhost:8080/"
        },
        "id": "_GSJiy8jnE83",
        "outputId": "21ee3c15-5df5-4fc8-d48a-98a1f090290d"
      },
      "execution_count": 159,
      "outputs": [
        {
          "output_type": "stream",
          "name": "stdout",
          "text": [
            "Using device cuda\n"
          ]
        }
      ]
    },
    {
      "cell_type": "code",
      "source": [
        "input_size = 28 * 28\n",
        "model = EMNISTClassifier(input_size).to(device)"
      ],
      "metadata": {
        "id": "GXYY-5l4nE-0"
      },
      "execution_count": 160,
      "outputs": []
    },
    {
      "cell_type": "code",
      "source": [
        "\n",
        "num_epochs = 16\n",
        "lr = 1e-4\n",
        "\n",
        "train_losses = []\n",
        "val_losses = []\n",
        "\n",
        "\n",
        "optimizer = optim.Adam(model.parameters(), lr=lr, weight_decay=1e-5)\n",
        "criterion = nn.CrossEntropyLoss()"
      ],
      "metadata": {
        "id": "afvyT0ImnFA6"
      },
      "execution_count": 161,
      "outputs": []
    },
    {
      "cell_type": "code",
      "source": [
        "%%time\n",
        "for epoch in range(num_epochs):\n",
        "\n",
        "  model.train()\n",
        "  epoch_weighted_loss = 0\n",
        "\n",
        "  for batch_X, batch_y in train_loader:\n",
        "\n",
        "    batch_X = batch_X.view(-1, 28 * 28)\n",
        "\n",
        "    batch_X = batch_X.to(device)\n",
        "    batch_y = batch_y.to(device)\n",
        "\n",
        "    batch_y_hat = model(batch_X)  # outputs [N, 10] where each [:, 10] is probabilities for class (0-9)\n",
        "\n",
        "    loss = criterion(batch_y_hat, batch_y)\n",
        "\n",
        "    # Reset\n",
        "    optimizer.zero_grad()\n",
        "    loss.backward()\n",
        "    optimizer.step()\n",
        "\n",
        "    epoch_weighted_loss += len(batch_y) * loss.item()\n",
        "\n",
        "  epoch_loss = epoch_weighted_loss/len(train_loader.dataset)\n",
        "\n",
        "  train_losses.append(epoch_loss)\n",
        "\n",
        "  print(f'Epoch [{epoch+1}/{num_epochs}], Train Loss: {epoch_loss}')\n",
        "\n",
        "\n",
        "\n",
        "\n",
        "  # validation\n",
        "\n",
        "  model.eval()\n",
        "  correctly_labelled = 0\n",
        "\n",
        "  with torch.no_grad():\n",
        "\n",
        "    test_epoch_weighted_loss = 0\n",
        "\n",
        "    for test_batch_X, test_batch_y in test_loader:\n",
        "\n",
        "        test_batch_X = test_batch_X.view(-1, 28 * 28)\n",
        "\n",
        "        test_batch_X = test_batch_X.to(device)\n",
        "        test_batch_y = test_batch_y.to(device)\n",
        "\n",
        "        val_batch_y_probs = model(test_batch_X)\n",
        "\n",
        "        loss = criterion(val_batch_y_probs, test_batch_y)\n",
        "\n",
        "        test_epoch_weighted_loss += len(test_batch_y) * loss.item()\n",
        "\n",
        "        # convert probailities to labels by picking the label (index) with the highest prob.\n",
        "        val_batch_y_pred = val_batch_y_probs.argmax(dim=1)\n",
        "\n",
        "        correctly_labelled += (val_batch_y_pred == test_batch_y).sum().item()  # item converts tensor to float/int/list\n",
        "\n",
        "  val_epoch_loss = test_epoch_weighted_loss/len(test_loader.dataset)\n",
        "  val_losses.append(val_epoch_loss)\n",
        "\n",
        "  print(f'Labelled {correctly_labelled}/{len(test_loader.dataset)} correctly ({correctly_labelled/len(test_loader.dataset)*100}% accuracy)')\n",
        "\n",
        "print(f'Training complete on device {device}.')\n",
        ""
      ],
      "metadata": {
        "colab": {
          "base_uri": "https://localhost:8080/"
        },
        "id": "yEYDaxWHnFE_",
        "outputId": "7c2272c2-51fa-42fc-e93b-477df0f5ed34"
      },
      "execution_count": 162,
      "outputs": [
        {
          "output_type": "stream",
          "name": "stdout",
          "text": [
            "Epoch [1/16], Train Loss: 1.86941798577703\n",
            "Labelled 7526/11632 correctly (64.70082530949107% accuracy)\n",
            "Epoch [2/16], Train Loss: 1.1803687757931483\n",
            "Labelled 7970/11632 correctly (68.51788170563961% accuracy)\n",
            "Epoch [3/16], Train Loss: 1.0379167088436705\n",
            "Labelled 8326/11632 correctly (71.57840440165062% accuracy)\n",
            "Epoch [4/16], Train Loss: 0.9398480360224402\n",
            "Labelled 8569/11632 correctly (73.66746905089408% accuracy)\n",
            "Epoch [5/16], Train Loss: 0.8679990442880047\n",
            "Labelled 8702/11632 correctly (74.81086657496562% accuracy)\n",
            "Epoch [6/16], Train Loss: 0.8132861944008974\n",
            "Labelled 8833/11632 correctly (75.93707015130674% accuracy)\n",
            "Epoch [7/16], Train Loss: 0.7698752861351755\n",
            "Labelled 8911/11632 correctly (76.6076341127923% accuracy)\n",
            "Epoch [8/16], Train Loss: 0.7327174501676094\n",
            "Labelled 8899/11632 correctly (76.5044704264099% accuracy)\n",
            "Epoch [9/16], Train Loss: 0.7008294995335119\n",
            "Labelled 9057/11632 correctly (77.86279229711141% accuracy)\n",
            "Epoch [10/16], Train Loss: 0.6734287282266371\n",
            "Labelled 9044/11632 correctly (77.75103163686381% accuracy)\n",
            "Epoch [11/16], Train Loss: 0.64992983734613\n",
            "Labelled 9041/11632 correctly (77.72524071526823% accuracy)\n",
            "Epoch [12/16], Train Loss: 0.6286208469268496\n",
            "Labelled 9200/11632 correctly (79.09215955983494% accuracy)\n",
            "Epoch [13/16], Train Loss: 0.6101381413366853\n",
            "Labelled 9184/11632 correctly (78.95460797799174% accuracy)\n",
            "Epoch [14/16], Train Loss: 0.5932078222500198\n",
            "Labelled 9270/11632 correctly (79.69394773039889% accuracy)\n",
            "Epoch [15/16], Train Loss: 0.5767337305637649\n",
            "Labelled 9218/11632 correctly (79.24690508940853% accuracy)\n",
            "Epoch [16/16], Train Loss: 0.5628393526486162\n",
            "Labelled 9348/11632 correctly (80.36451169188446% accuracy)\n",
            "Training complete on device cuda.\n",
            "CPU times: user 3min 32s, sys: 2.32 s, total: 3min 35s\n",
            "Wall time: 3min 38s\n"
          ]
        }
      ]
    },
    {
      "cell_type": "code",
      "source": [
        "plt.plot(train_losses)\n",
        "plt.title('Training & Testing Losses over Epochs')\n",
        "\n",
        "plt.plot(train_losses, label='Train Loss')\n",
        "plt.plot(val_losses  , label='Val Loss')\n",
        "\n",
        "plt.ylabel('Loss (CCE)')\n",
        "plt.xlabel('Epoch')\n",
        "\n",
        "plt.legend()\n",
        "plt.show()"
      ],
      "metadata": {
        "colab": {
          "base_uri": "https://localhost:8080/",
          "height": 472
        },
        "id": "4-9drfBxnFHE",
        "outputId": "09148fb5-59c2-4464-cf13-d25ba72394dd"
      },
      "execution_count": 164,
      "outputs": [
        {
          "output_type": "display_data",
          "data": {
            "text/plain": [
              "<Figure size 640x480 with 1 Axes>"
            ],
            "image/png": "[encoded data removed]"
          },
          "metadata": {}
        }
      ]
    },
    {
      "cell_type": "code",
      "source": [],
      "metadata": {
        "id": "P7XZz0frnFNN"
      },
      "execution_count": 120,
      "outputs": []
    },
    {
      "cell_type": "code",
      "source": [
        "\n",
        "\n"
      ],
      "metadata": {
        "id": "TcwEWzZTnFPM"
      },
      "execution_count": null,
      "outputs": []
    }
  ]
}